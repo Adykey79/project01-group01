{
 "cells": [
  {
   "cell_type": "code",
   "execution_count": 13,
   "id": "680f3898",
   "metadata": {},
   "outputs": [],
   "source": [
    "from pathlib import Path\n",
    "import pandas as pd\n",
    "import numpy as np\n",
    "import plotly.express as px\n",
    "import matplotlib.pyplot as plt"
   ]
  },
  {
   "cell_type": "code",
   "execution_count": 14,
   "id": "f2821cd8",
   "metadata": {},
   "outputs": [
    {
     "data": {
      "text/html": [
       "<div>\n",
       "<style scoped>\n",
       "    .dataframe tbody tr th:only-of-type {\n",
       "        vertical-align: middle;\n",
       "    }\n",
       "\n",
       "    .dataframe tbody tr th {\n",
       "        vertical-align: top;\n",
       "    }\n",
       "\n",
       "    .dataframe thead th {\n",
       "        text-align: right;\n",
       "    }\n",
       "</style>\n",
       "<table border=\"1\" class=\"dataframe\">\n",
       "  <thead>\n",
       "    <tr style=\"text-align: right;\">\n",
       "      <th></th>\n",
       "      <th>Unnamed: 0</th>\n",
       "      <th>type</th>\n",
       "      <th>country</th>\n",
       "      <th>date_added</th>\n",
       "      <th>release_year</th>\n",
       "      <th>rating</th>\n",
       "      <th>listed_in</th>\n",
       "    </tr>\n",
       "  </thead>\n",
       "  <tbody>\n",
       "    <tr>\n",
       "      <th>0</th>\n",
       "      <td>0</td>\n",
       "      <td>Movie</td>\n",
       "      <td>United States</td>\n",
       "      <td>September 25, 2021</td>\n",
       "      <td>2020</td>\n",
       "      <td>PG-13</td>\n",
       "      <td>Documentaries</td>\n",
       "    </tr>\n",
       "    <tr>\n",
       "      <th>1</th>\n",
       "      <td>1</td>\n",
       "      <td>TV Show</td>\n",
       "      <td>South Africa</td>\n",
       "      <td>September 24, 2021</td>\n",
       "      <td>2021</td>\n",
       "      <td>TV-MA</td>\n",
       "      <td>International TV Shows, TV Dramas, TV Mysteries</td>\n",
       "    </tr>\n",
       "    <tr>\n",
       "      <th>2</th>\n",
       "      <td>4</td>\n",
       "      <td>TV Show</td>\n",
       "      <td>India</td>\n",
       "      <td>September 24, 2021</td>\n",
       "      <td>2021</td>\n",
       "      <td>TV-MA</td>\n",
       "      <td>International TV Shows, Romantic TV Shows, TV ...</td>\n",
       "    </tr>\n",
       "    <tr>\n",
       "      <th>3</th>\n",
       "      <td>7</td>\n",
       "      <td>Movie</td>\n",
       "      <td>United States, Ghana, Burkina Faso, United Kin...</td>\n",
       "      <td>September 24, 2021</td>\n",
       "      <td>1993</td>\n",
       "      <td>TV-MA</td>\n",
       "      <td>Dramas, Independent Movies, International Movies</td>\n",
       "    </tr>\n",
       "    <tr>\n",
       "      <th>4</th>\n",
       "      <td>8</td>\n",
       "      <td>TV Show</td>\n",
       "      <td>United Kingdom</td>\n",
       "      <td>September 24, 2021</td>\n",
       "      <td>2021</td>\n",
       "      <td>TV-14</td>\n",
       "      <td>British TV Shows, Reality TV</td>\n",
       "    </tr>\n",
       "    <tr>\n",
       "      <th>...</th>\n",
       "      <td>...</td>\n",
       "      <td>...</td>\n",
       "      <td>...</td>\n",
       "      <td>...</td>\n",
       "      <td>...</td>\n",
       "      <td>...</td>\n",
       "      <td>...</td>\n",
       "    </tr>\n",
       "    <tr>\n",
       "      <th>7959</th>\n",
       "      <td>8801</td>\n",
       "      <td>Movie</td>\n",
       "      <td>United Arab Emirates, Jordan</td>\n",
       "      <td>March 9, 2016</td>\n",
       "      <td>2015</td>\n",
       "      <td>TV-MA</td>\n",
       "      <td>Dramas, International Movies, Thrillers</td>\n",
       "    </tr>\n",
       "    <tr>\n",
       "      <th>7960</th>\n",
       "      <td>8802</td>\n",
       "      <td>Movie</td>\n",
       "      <td>United States</td>\n",
       "      <td>November 20, 2019</td>\n",
       "      <td>2007</td>\n",
       "      <td>R</td>\n",
       "      <td>Cult Movies, Dramas, Thrillers</td>\n",
       "    </tr>\n",
       "    <tr>\n",
       "      <th>7961</th>\n",
       "      <td>8804</td>\n",
       "      <td>Movie</td>\n",
       "      <td>United States</td>\n",
       "      <td>November 1, 2019</td>\n",
       "      <td>2009</td>\n",
       "      <td>R</td>\n",
       "      <td>Comedies, Horror Movies</td>\n",
       "    </tr>\n",
       "    <tr>\n",
       "      <th>7962</th>\n",
       "      <td>8805</td>\n",
       "      <td>Movie</td>\n",
       "      <td>United States</td>\n",
       "      <td>January 11, 2020</td>\n",
       "      <td>2006</td>\n",
       "      <td>PG</td>\n",
       "      <td>Children &amp; Family Movies, Comedies</td>\n",
       "    </tr>\n",
       "    <tr>\n",
       "      <th>7963</th>\n",
       "      <td>8806</td>\n",
       "      <td>Movie</td>\n",
       "      <td>India</td>\n",
       "      <td>March 2, 2019</td>\n",
       "      <td>2015</td>\n",
       "      <td>TV-14</td>\n",
       "      <td>Dramas, International Movies, Music &amp; Musicals</td>\n",
       "    </tr>\n",
       "  </tbody>\n",
       "</table>\n",
       "<p>7964 rows × 7 columns</p>\n",
       "</div>"
      ],
      "text/plain": [
       "      Unnamed: 0     type                                            country  \\\n",
       "0              0    Movie                                      United States   \n",
       "1              1  TV Show                                       South Africa   \n",
       "2              4  TV Show                                              India   \n",
       "3              7    Movie  United States, Ghana, Burkina Faso, United Kin...   \n",
       "4              8  TV Show                                     United Kingdom   \n",
       "...          ...      ...                                                ...   \n",
       "7959        8801    Movie                       United Arab Emirates, Jordan   \n",
       "7960        8802    Movie                                      United States   \n",
       "7961        8804    Movie                                      United States   \n",
       "7962        8805    Movie                                      United States   \n",
       "7963        8806    Movie                                              India   \n",
       "\n",
       "              date_added  release_year rating  \\\n",
       "0     September 25, 2021          2020  PG-13   \n",
       "1     September 24, 2021          2021  TV-MA   \n",
       "2     September 24, 2021          2021  TV-MA   \n",
       "3     September 24, 2021          1993  TV-MA   \n",
       "4     September 24, 2021          2021  TV-14   \n",
       "...                  ...           ...    ...   \n",
       "7959       March 9, 2016          2015  TV-MA   \n",
       "7960   November 20, 2019          2007      R   \n",
       "7961    November 1, 2019          2009      R   \n",
       "7962    January 11, 2020          2006     PG   \n",
       "7963       March 2, 2019          2015  TV-14   \n",
       "\n",
       "                                              listed_in  \n",
       "0                                         Documentaries  \n",
       "1       International TV Shows, TV Dramas, TV Mysteries  \n",
       "2     International TV Shows, Romantic TV Shows, TV ...  \n",
       "3      Dramas, Independent Movies, International Movies  \n",
       "4                          British TV Shows, Reality TV  \n",
       "...                                                 ...  \n",
       "7959            Dramas, International Movies, Thrillers  \n",
       "7960                     Cult Movies, Dramas, Thrillers  \n",
       "7961                            Comedies, Horror Movies  \n",
       "7962                 Children & Family Movies, Comedies  \n",
       "7963     Dramas, International Movies, Music & Musicals  \n",
       "\n",
       "[7964 rows x 7 columns]"
      ]
     },
     "execution_count": 14,
     "metadata": {},
     "output_type": "execute_result"
    }
   ],
   "source": [
    "path_netflix_df = Path(\"Resources/cleaned_netflix_df.csv\")\n",
    "cleaned_netflix_df = pd.read_csv(path_netflix_df)\n",
    "cleaned_netflix_df"
   ]
  },
  {
   "cell_type": "code",
   "execution_count": 15,
   "id": "e2b3b8e9",
   "metadata": {},
   "outputs": [
    {
     "data": {
      "text/html": [
       "<div>\n",
       "<style scoped>\n",
       "    .dataframe tbody tr th:only-of-type {\n",
       "        vertical-align: middle;\n",
       "    }\n",
       "\n",
       "    .dataframe tbody tr th {\n",
       "        vertical-align: top;\n",
       "    }\n",
       "\n",
       "    .dataframe thead th {\n",
       "        text-align: right;\n",
       "    }\n",
       "</style>\n",
       "<table border=\"1\" class=\"dataframe\">\n",
       "  <thead>\n",
       "    <tr style=\"text-align: right;\">\n",
       "      <th></th>\n",
       "      <th>Unnamed: 0</th>\n",
       "      <th>type</th>\n",
       "      <th>country</th>\n",
       "      <th>date_added</th>\n",
       "      <th>release_year</th>\n",
       "      <th>rating</th>\n",
       "      <th>listed_in</th>\n",
       "    </tr>\n",
       "  </thead>\n",
       "  <tbody>\n",
       "    <tr>\n",
       "      <th>0</th>\n",
       "      <td>0</td>\n",
       "      <td>Movie</td>\n",
       "      <td>United States</td>\n",
       "      <td>September 25, 2021</td>\n",
       "      <td>2020</td>\n",
       "      <td>PG-13</td>\n",
       "      <td>Documentaries</td>\n",
       "    </tr>\n",
       "    <tr>\n",
       "      <th>1</th>\n",
       "      <td>1</td>\n",
       "      <td>TV Show</td>\n",
       "      <td>South Africa</td>\n",
       "      <td>September 24, 2021</td>\n",
       "      <td>2021</td>\n",
       "      <td>TV-MA</td>\n",
       "      <td>International TV Shows, TV Dramas, TV Mysteries</td>\n",
       "    </tr>\n",
       "    <tr>\n",
       "      <th>2</th>\n",
       "      <td>4</td>\n",
       "      <td>TV Show</td>\n",
       "      <td>India</td>\n",
       "      <td>September 24, 2021</td>\n",
       "      <td>2021</td>\n",
       "      <td>TV-MA</td>\n",
       "      <td>International TV Shows, Romantic TV Shows, TV ...</td>\n",
       "    </tr>\n",
       "    <tr>\n",
       "      <th>3</th>\n",
       "      <td>7</td>\n",
       "      <td>Movie</td>\n",
       "      <td>United States</td>\n",
       "      <td>September 24, 2021</td>\n",
       "      <td>1993</td>\n",
       "      <td>TV-MA</td>\n",
       "      <td>Dramas, Independent Movies, International Movies</td>\n",
       "    </tr>\n",
       "    <tr>\n",
       "      <th>3</th>\n",
       "      <td>7</td>\n",
       "      <td>Movie</td>\n",
       "      <td>Ghana</td>\n",
       "      <td>September 24, 2021</td>\n",
       "      <td>1993</td>\n",
       "      <td>TV-MA</td>\n",
       "      <td>Dramas, Independent Movies, International Movies</td>\n",
       "    </tr>\n",
       "    <tr>\n",
       "      <th>...</th>\n",
       "      <td>...</td>\n",
       "      <td>...</td>\n",
       "      <td>...</td>\n",
       "      <td>...</td>\n",
       "      <td>...</td>\n",
       "      <td>...</td>\n",
       "      <td>...</td>\n",
       "    </tr>\n",
       "    <tr>\n",
       "      <th>7959</th>\n",
       "      <td>8801</td>\n",
       "      <td>Movie</td>\n",
       "      <td>Jordan</td>\n",
       "      <td>March 9, 2016</td>\n",
       "      <td>2015</td>\n",
       "      <td>TV-MA</td>\n",
       "      <td>Dramas, International Movies, Thrillers</td>\n",
       "    </tr>\n",
       "    <tr>\n",
       "      <th>7960</th>\n",
       "      <td>8802</td>\n",
       "      <td>Movie</td>\n",
       "      <td>United States</td>\n",
       "      <td>November 20, 2019</td>\n",
       "      <td>2007</td>\n",
       "      <td>R</td>\n",
       "      <td>Cult Movies, Dramas, Thrillers</td>\n",
       "    </tr>\n",
       "    <tr>\n",
       "      <th>7961</th>\n",
       "      <td>8804</td>\n",
       "      <td>Movie</td>\n",
       "      <td>United States</td>\n",
       "      <td>November 1, 2019</td>\n",
       "      <td>2009</td>\n",
       "      <td>R</td>\n",
       "      <td>Comedies, Horror Movies</td>\n",
       "    </tr>\n",
       "    <tr>\n",
       "      <th>7962</th>\n",
       "      <td>8805</td>\n",
       "      <td>Movie</td>\n",
       "      <td>United States</td>\n",
       "      <td>January 11, 2020</td>\n",
       "      <td>2006</td>\n",
       "      <td>PG</td>\n",
       "      <td>Children &amp; Family Movies, Comedies</td>\n",
       "    </tr>\n",
       "    <tr>\n",
       "      <th>7963</th>\n",
       "      <td>8806</td>\n",
       "      <td>Movie</td>\n",
       "      <td>India</td>\n",
       "      <td>March 2, 2019</td>\n",
       "      <td>2015</td>\n",
       "      <td>TV-14</td>\n",
       "      <td>Dramas, International Movies, Music &amp; Musicals</td>\n",
       "    </tr>\n",
       "  </tbody>\n",
       "</table>\n",
       "<p>10002 rows × 7 columns</p>\n",
       "</div>"
      ],
      "text/plain": [
       "      Unnamed: 0     type        country          date_added  release_year  \\\n",
       "0              0    Movie  United States  September 25, 2021          2020   \n",
       "1              1  TV Show   South Africa  September 24, 2021          2021   \n",
       "2              4  TV Show          India  September 24, 2021          2021   \n",
       "3              7    Movie  United States  September 24, 2021          1993   \n",
       "3              7    Movie          Ghana  September 24, 2021          1993   \n",
       "...          ...      ...            ...                 ...           ...   \n",
       "7959        8801    Movie         Jordan       March 9, 2016          2015   \n",
       "7960        8802    Movie  United States   November 20, 2019          2007   \n",
       "7961        8804    Movie  United States    November 1, 2019          2009   \n",
       "7962        8805    Movie  United States    January 11, 2020          2006   \n",
       "7963        8806    Movie          India       March 2, 2019          2015   \n",
       "\n",
       "     rating                                          listed_in  \n",
       "0     PG-13                                      Documentaries  \n",
       "1     TV-MA    International TV Shows, TV Dramas, TV Mysteries  \n",
       "2     TV-MA  International TV Shows, Romantic TV Shows, TV ...  \n",
       "3     TV-MA   Dramas, Independent Movies, International Movies  \n",
       "3     TV-MA   Dramas, Independent Movies, International Movies  \n",
       "...     ...                                                ...  \n",
       "7959  TV-MA            Dramas, International Movies, Thrillers  \n",
       "7960      R                     Cult Movies, Dramas, Thrillers  \n",
       "7961      R                            Comedies, Horror Movies  \n",
       "7962     PG                 Children & Family Movies, Comedies  \n",
       "7963  TV-14     Dramas, International Movies, Music & Musicals  \n",
       "\n",
       "[10002 rows x 7 columns]"
      ]
     },
     "execution_count": 15,
     "metadata": {},
     "output_type": "execute_result"
    }
   ],
   "source": [
    "# Split comma separated values\n",
    "netflix_df = cleaned_netflix_df.assign(country=cleaned_netflix_df['country'].str.split(', ')).explode('country')\n",
    "\n",
    "# Some values had , at the end still (for example, \"United States,\" so replace those with nothing\n",
    "netflix_df[\"country\"] = netflix_df[\"country\"].str.replace(\",\",\"\")\n",
    "\n",
    "netflix_df"
   ]
  },
  {
   "cell_type": "code",
   "execution_count": 16,
   "id": "0bb7ce7a",
   "metadata": {},
   "outputs": [
    {
     "data": {
      "text/html": [
       "<div>\n",
       "<style scoped>\n",
       "    .dataframe tbody tr th:only-of-type {\n",
       "        vertical-align: middle;\n",
       "    }\n",
       "\n",
       "    .dataframe tbody tr th {\n",
       "        vertical-align: top;\n",
       "    }\n",
       "\n",
       "    .dataframe thead th {\n",
       "        text-align: right;\n",
       "    }\n",
       "</style>\n",
       "<table border=\"1\" class=\"dataframe\">\n",
       "  <thead>\n",
       "    <tr style=\"text-align: right;\">\n",
       "      <th></th>\n",
       "      <th>Unnamed: 0</th>\n",
       "      <th>type</th>\n",
       "      <th>country</th>\n",
       "      <th>date_added</th>\n",
       "      <th>release_year</th>\n",
       "      <th>rating</th>\n",
       "      <th>listed_in</th>\n",
       "    </tr>\n",
       "  </thead>\n",
       "  <tbody>\n",
       "    <tr>\n",
       "      <th>0</th>\n",
       "      <td>0</td>\n",
       "      <td>Movie</td>\n",
       "      <td>United States</td>\n",
       "      <td>September 25, 2021</td>\n",
       "      <td>2020</td>\n",
       "      <td>PG-13</td>\n",
       "      <td>Documentaries</td>\n",
       "    </tr>\n",
       "    <tr>\n",
       "      <th>3</th>\n",
       "      <td>7</td>\n",
       "      <td>Movie</td>\n",
       "      <td>United States</td>\n",
       "      <td>September 24, 2021</td>\n",
       "      <td>1993</td>\n",
       "      <td>TV-MA</td>\n",
       "      <td>Dramas, Independent Movies, International Movies</td>\n",
       "    </tr>\n",
       "    <tr>\n",
       "      <th>3</th>\n",
       "      <td>7</td>\n",
       "      <td>Movie</td>\n",
       "      <td>Ghana</td>\n",
       "      <td>September 24, 2021</td>\n",
       "      <td>1993</td>\n",
       "      <td>TV-MA</td>\n",
       "      <td>Dramas, Independent Movies, International Movies</td>\n",
       "    </tr>\n",
       "    <tr>\n",
       "      <th>3</th>\n",
       "      <td>7</td>\n",
       "      <td>Movie</td>\n",
       "      <td>Burkina Faso</td>\n",
       "      <td>September 24, 2021</td>\n",
       "      <td>1993</td>\n",
       "      <td>TV-MA</td>\n",
       "      <td>Dramas, Independent Movies, International Movies</td>\n",
       "    </tr>\n",
       "    <tr>\n",
       "      <th>3</th>\n",
       "      <td>7</td>\n",
       "      <td>Movie</td>\n",
       "      <td>United Kingdom</td>\n",
       "      <td>September 24, 2021</td>\n",
       "      <td>1993</td>\n",
       "      <td>TV-MA</td>\n",
       "      <td>Dramas, Independent Movies, International Movies</td>\n",
       "    </tr>\n",
       "    <tr>\n",
       "      <th>...</th>\n",
       "      <td>...</td>\n",
       "      <td>...</td>\n",
       "      <td>...</td>\n",
       "      <td>...</td>\n",
       "      <td>...</td>\n",
       "      <td>...</td>\n",
       "      <td>...</td>\n",
       "    </tr>\n",
       "    <tr>\n",
       "      <th>7959</th>\n",
       "      <td>8801</td>\n",
       "      <td>Movie</td>\n",
       "      <td>Jordan</td>\n",
       "      <td>March 9, 2016</td>\n",
       "      <td>2015</td>\n",
       "      <td>TV-MA</td>\n",
       "      <td>Dramas, International Movies, Thrillers</td>\n",
       "    </tr>\n",
       "    <tr>\n",
       "      <th>7960</th>\n",
       "      <td>8802</td>\n",
       "      <td>Movie</td>\n",
       "      <td>United States</td>\n",
       "      <td>November 20, 2019</td>\n",
       "      <td>2007</td>\n",
       "      <td>R</td>\n",
       "      <td>Cult Movies, Dramas, Thrillers</td>\n",
       "    </tr>\n",
       "    <tr>\n",
       "      <th>7961</th>\n",
       "      <td>8804</td>\n",
       "      <td>Movie</td>\n",
       "      <td>United States</td>\n",
       "      <td>November 1, 2019</td>\n",
       "      <td>2009</td>\n",
       "      <td>R</td>\n",
       "      <td>Comedies, Horror Movies</td>\n",
       "    </tr>\n",
       "    <tr>\n",
       "      <th>7962</th>\n",
       "      <td>8805</td>\n",
       "      <td>Movie</td>\n",
       "      <td>United States</td>\n",
       "      <td>January 11, 2020</td>\n",
       "      <td>2006</td>\n",
       "      <td>PG</td>\n",
       "      <td>Children &amp; Family Movies, Comedies</td>\n",
       "    </tr>\n",
       "    <tr>\n",
       "      <th>7963</th>\n",
       "      <td>8806</td>\n",
       "      <td>Movie</td>\n",
       "      <td>India</td>\n",
       "      <td>March 2, 2019</td>\n",
       "      <td>2015</td>\n",
       "      <td>TV-14</td>\n",
       "      <td>Dramas, International Movies, Music &amp; Musicals</td>\n",
       "    </tr>\n",
       "  </tbody>\n",
       "</table>\n",
       "<p>7373 rows × 7 columns</p>\n",
       "</div>"
      ],
      "text/plain": [
       "      Unnamed: 0   type         country          date_added  release_year  \\\n",
       "0              0  Movie   United States  September 25, 2021          2020   \n",
       "3              7  Movie   United States  September 24, 2021          1993   \n",
       "3              7  Movie           Ghana  September 24, 2021          1993   \n",
       "3              7  Movie    Burkina Faso  September 24, 2021          1993   \n",
       "3              7  Movie  United Kingdom  September 24, 2021          1993   \n",
       "...          ...    ...             ...                 ...           ...   \n",
       "7959        8801  Movie          Jordan       March 9, 2016          2015   \n",
       "7960        8802  Movie   United States   November 20, 2019          2007   \n",
       "7961        8804  Movie   United States    November 1, 2019          2009   \n",
       "7962        8805  Movie   United States    January 11, 2020          2006   \n",
       "7963        8806  Movie           India       March 2, 2019          2015   \n",
       "\n",
       "     rating                                         listed_in  \n",
       "0     PG-13                                     Documentaries  \n",
       "3     TV-MA  Dramas, Independent Movies, International Movies  \n",
       "3     TV-MA  Dramas, Independent Movies, International Movies  \n",
       "3     TV-MA  Dramas, Independent Movies, International Movies  \n",
       "3     TV-MA  Dramas, Independent Movies, International Movies  \n",
       "...     ...                                               ...  \n",
       "7959  TV-MA           Dramas, International Movies, Thrillers  \n",
       "7960      R                    Cult Movies, Dramas, Thrillers  \n",
       "7961      R                           Comedies, Horror Movies  \n",
       "7962     PG                Children & Family Movies, Comedies  \n",
       "7963  TV-14    Dramas, International Movies, Music & Musicals  \n",
       "\n",
       "[7373 rows x 7 columns]"
      ]
     },
     "execution_count": 16,
     "metadata": {},
     "output_type": "execute_result"
    }
   ],
   "source": [
    "# Find type = Movies\n",
    "movie_type = netflix_df[(netflix_df[\"type\"] == \"Movie\")]\n",
    "movie_type"
   ]
  },
  {
   "cell_type": "code",
   "execution_count": 17,
   "id": "51d6d4be",
   "metadata": {},
   "outputs": [
    {
     "data": {
      "text/html": [
       "<div>\n",
       "<style scoped>\n",
       "    .dataframe tbody tr th:only-of-type {\n",
       "        vertical-align: middle;\n",
       "    }\n",
       "\n",
       "    .dataframe tbody tr th {\n",
       "        vertical-align: top;\n",
       "    }\n",
       "\n",
       "    .dataframe thead th {\n",
       "        text-align: right;\n",
       "    }\n",
       "</style>\n",
       "<table border=\"1\" class=\"dataframe\">\n",
       "  <thead>\n",
       "    <tr style=\"text-align: right;\">\n",
       "      <th></th>\n",
       "      <th>country</th>\n",
       "      <th>type</th>\n",
       "      <th>count</th>\n",
       "    </tr>\n",
       "  </thead>\n",
       "  <tbody>\n",
       "    <tr>\n",
       "      <th>0</th>\n",
       "      <td>United States</td>\n",
       "      <td>Movie</td>\n",
       "      <td>2752</td>\n",
       "    </tr>\n",
       "    <tr>\n",
       "      <th>1</th>\n",
       "      <td>India</td>\n",
       "      <td>Movie</td>\n",
       "      <td>962</td>\n",
       "    </tr>\n",
       "    <tr>\n",
       "      <th>2</th>\n",
       "      <td>United Kingdom</td>\n",
       "      <td>Movie</td>\n",
       "      <td>534</td>\n",
       "    </tr>\n",
       "    <tr>\n",
       "      <th>3</th>\n",
       "      <td>Canada</td>\n",
       "      <td>Movie</td>\n",
       "      <td>319</td>\n",
       "    </tr>\n",
       "    <tr>\n",
       "      <th>4</th>\n",
       "      <td>France</td>\n",
       "      <td>Movie</td>\n",
       "      <td>303</td>\n",
       "    </tr>\n",
       "    <tr>\n",
       "      <th>...</th>\n",
       "      <td>...</td>\n",
       "      <td>...</td>\n",
       "      <td>...</td>\n",
       "    </tr>\n",
       "    <tr>\n",
       "      <th>113</th>\n",
       "      <td>Samoa</td>\n",
       "      <td>Movie</td>\n",
       "      <td>1</td>\n",
       "    </tr>\n",
       "    <tr>\n",
       "      <th>114</th>\n",
       "      <td>Kazakhstan</td>\n",
       "      <td>Movie</td>\n",
       "      <td>1</td>\n",
       "    </tr>\n",
       "    <tr>\n",
       "      <th>115</th>\n",
       "      <td>Jamaica</td>\n",
       "      <td>Movie</td>\n",
       "      <td>1</td>\n",
       "    </tr>\n",
       "    <tr>\n",
       "      <th>116</th>\n",
       "      <td>Slovakia</td>\n",
       "      <td>Movie</td>\n",
       "      <td>1</td>\n",
       "    </tr>\n",
       "    <tr>\n",
       "      <th>117</th>\n",
       "      <td></td>\n",
       "      <td>Movie</td>\n",
       "      <td>1</td>\n",
       "    </tr>\n",
       "  </tbody>\n",
       "</table>\n",
       "<p>118 rows × 3 columns</p>\n",
       "</div>"
      ],
      "text/plain": [
       "            country   type  count\n",
       "0     United States  Movie   2752\n",
       "1             India  Movie    962\n",
       "2    United Kingdom  Movie    534\n",
       "3            Canada  Movie    319\n",
       "4            France  Movie    303\n",
       "..              ...    ...    ...\n",
       "113           Samoa  Movie      1\n",
       "114      Kazakhstan  Movie      1\n",
       "115         Jamaica  Movie      1\n",
       "116        Slovakia  Movie      1\n",
       "117                  Movie      1\n",
       "\n",
       "[118 rows x 3 columns]"
      ]
     },
     "execution_count": 17,
     "metadata": {},
     "output_type": "execute_result"
    }
   ],
   "source": [
    "# Count how many Movies each country has produced\n",
    "count_movie = movie_type.groupby([\"country\"])[\"type\"].value_counts().sort_values(ascending=False).reset_index()\n",
    "count_movie"
   ]
  },
  {
   "cell_type": "code",
   "execution_count": 18,
   "id": "05633f4e",
   "metadata": {},
   "outputs": [
    {
     "data": {
      "text/html": [
       "<div>\n",
       "<style scoped>\n",
       "    .dataframe tbody tr th:only-of-type {\n",
       "        vertical-align: middle;\n",
       "    }\n",
       "\n",
       "    .dataframe tbody tr th {\n",
       "        vertical-align: top;\n",
       "    }\n",
       "\n",
       "    .dataframe thead th {\n",
       "        text-align: right;\n",
       "    }\n",
       "</style>\n",
       "<table border=\"1\" class=\"dataframe\">\n",
       "  <thead>\n",
       "    <tr style=\"text-align: right;\">\n",
       "      <th></th>\n",
       "      <th>Unnamed: 0</th>\n",
       "      <th>type</th>\n",
       "      <th>country</th>\n",
       "      <th>date_added</th>\n",
       "      <th>release_year</th>\n",
       "      <th>rating</th>\n",
       "      <th>listed_in</th>\n",
       "    </tr>\n",
       "  </thead>\n",
       "  <tbody>\n",
       "    <tr>\n",
       "      <th>1</th>\n",
       "      <td>1</td>\n",
       "      <td>TV Show</td>\n",
       "      <td>South Africa</td>\n",
       "      <td>September 24, 2021</td>\n",
       "      <td>2021</td>\n",
       "      <td>TV-MA</td>\n",
       "      <td>International TV Shows, TV Dramas, TV Mysteries</td>\n",
       "    </tr>\n",
       "    <tr>\n",
       "      <th>2</th>\n",
       "      <td>4</td>\n",
       "      <td>TV Show</td>\n",
       "      <td>India</td>\n",
       "      <td>September 24, 2021</td>\n",
       "      <td>2021</td>\n",
       "      <td>TV-MA</td>\n",
       "      <td>International TV Shows, Romantic TV Shows, TV ...</td>\n",
       "    </tr>\n",
       "    <tr>\n",
       "      <th>4</th>\n",
       "      <td>8</td>\n",
       "      <td>TV Show</td>\n",
       "      <td>United Kingdom</td>\n",
       "      <td>September 24, 2021</td>\n",
       "      <td>2021</td>\n",
       "      <td>TV-14</td>\n",
       "      <td>British TV Shows, Reality TV</td>\n",
       "    </tr>\n",
       "    <tr>\n",
       "      <th>7</th>\n",
       "      <td>15</td>\n",
       "      <td>TV Show</td>\n",
       "      <td>United States</td>\n",
       "      <td>September 22, 2021</td>\n",
       "      <td>2021</td>\n",
       "      <td>TV-MA</td>\n",
       "      <td>TV Comedies, TV Dramas</td>\n",
       "    </tr>\n",
       "    <tr>\n",
       "      <th>8</th>\n",
       "      <td>17</td>\n",
       "      <td>TV Show</td>\n",
       "      <td>Mexico</td>\n",
       "      <td>September 22, 2021</td>\n",
       "      <td>2020</td>\n",
       "      <td>TV-MA</td>\n",
       "      <td>Crime TV Shows, Spanish-Language TV Shows, TV ...</td>\n",
       "    </tr>\n",
       "    <tr>\n",
       "      <th>...</th>\n",
       "      <td>...</td>\n",
       "      <td>...</td>\n",
       "      <td>...</td>\n",
       "      <td>...</td>\n",
       "      <td>...</td>\n",
       "      <td>...</td>\n",
       "      <td>...</td>\n",
       "    </tr>\n",
       "    <tr>\n",
       "      <th>7955</th>\n",
       "      <td>8797</td>\n",
       "      <td>TV Show</td>\n",
       "      <td>United States</td>\n",
       "      <td>September 13, 2018</td>\n",
       "      <td>2016</td>\n",
       "      <td>TV-Y7</td>\n",
       "      <td>Kids' TV</td>\n",
       "    </tr>\n",
       "    <tr>\n",
       "      <th>7955</th>\n",
       "      <td>8797</td>\n",
       "      <td>TV Show</td>\n",
       "      <td>France</td>\n",
       "      <td>September 13, 2018</td>\n",
       "      <td>2016</td>\n",
       "      <td>TV-Y7</td>\n",
       "      <td>Kids' TV</td>\n",
       "    </tr>\n",
       "    <tr>\n",
       "      <th>7955</th>\n",
       "      <td>8797</td>\n",
       "      <td>TV Show</td>\n",
       "      <td>South Korea</td>\n",
       "      <td>September 13, 2018</td>\n",
       "      <td>2016</td>\n",
       "      <td>TV-Y7</td>\n",
       "      <td>Kids' TV</td>\n",
       "    </tr>\n",
       "    <tr>\n",
       "      <th>7955</th>\n",
       "      <td>8797</td>\n",
       "      <td>TV Show</td>\n",
       "      <td>Indonesia</td>\n",
       "      <td>September 13, 2018</td>\n",
       "      <td>2016</td>\n",
       "      <td>TV-Y7</td>\n",
       "      <td>Kids' TV</td>\n",
       "    </tr>\n",
       "    <tr>\n",
       "      <th>7958</th>\n",
       "      <td>8800</td>\n",
       "      <td>TV Show</td>\n",
       "      <td>Pakistan</td>\n",
       "      <td>December 15, 2016</td>\n",
       "      <td>2012</td>\n",
       "      <td>TV-PG</td>\n",
       "      <td>International TV Shows, Romantic TV Shows, TV ...</td>\n",
       "    </tr>\n",
       "  </tbody>\n",
       "</table>\n",
       "<p>2629 rows × 7 columns</p>\n",
       "</div>"
      ],
      "text/plain": [
       "      Unnamed: 0     type         country          date_added  release_year  \\\n",
       "1              1  TV Show    South Africa  September 24, 2021          2021   \n",
       "2              4  TV Show           India  September 24, 2021          2021   \n",
       "4              8  TV Show  United Kingdom  September 24, 2021          2021   \n",
       "7             15  TV Show   United States  September 22, 2021          2021   \n",
       "8             17  TV Show          Mexico  September 22, 2021          2020   \n",
       "...          ...      ...             ...                 ...           ...   \n",
       "7955        8797  TV Show   United States  September 13, 2018          2016   \n",
       "7955        8797  TV Show          France  September 13, 2018          2016   \n",
       "7955        8797  TV Show     South Korea  September 13, 2018          2016   \n",
       "7955        8797  TV Show       Indonesia  September 13, 2018          2016   \n",
       "7958        8800  TV Show        Pakistan   December 15, 2016          2012   \n",
       "\n",
       "     rating                                          listed_in  \n",
       "1     TV-MA    International TV Shows, TV Dramas, TV Mysteries  \n",
       "2     TV-MA  International TV Shows, Romantic TV Shows, TV ...  \n",
       "4     TV-14                       British TV Shows, Reality TV  \n",
       "7     TV-MA                             TV Comedies, TV Dramas  \n",
       "8     TV-MA  Crime TV Shows, Spanish-Language TV Shows, TV ...  \n",
       "...     ...                                                ...  \n",
       "7955  TV-Y7                                           Kids' TV  \n",
       "7955  TV-Y7                                           Kids' TV  \n",
       "7955  TV-Y7                                           Kids' TV  \n",
       "7955  TV-Y7                                           Kids' TV  \n",
       "7958  TV-PG  International TV Shows, Romantic TV Shows, TV ...  \n",
       "\n",
       "[2629 rows x 7 columns]"
      ]
     },
     "execution_count": 18,
     "metadata": {},
     "output_type": "execute_result"
    }
   ],
   "source": [
    "# Find type = TV Shows\n",
    "tv_type = netflix_df[(netflix_df[\"type\"] == \"TV Show\")]\n",
    "\n",
    "tv_type"
   ]
  },
  {
   "cell_type": "code",
   "execution_count": 19,
   "id": "3378f602",
   "metadata": {},
   "outputs": [
    {
     "data": {
      "text/html": [
       "<div>\n",
       "<style scoped>\n",
       "    .dataframe tbody tr th:only-of-type {\n",
       "        vertical-align: middle;\n",
       "    }\n",
       "\n",
       "    .dataframe tbody tr th {\n",
       "        vertical-align: top;\n",
       "    }\n",
       "\n",
       "    .dataframe thead th {\n",
       "        text-align: right;\n",
       "    }\n",
       "</style>\n",
       "<table border=\"1\" class=\"dataframe\">\n",
       "  <thead>\n",
       "    <tr style=\"text-align: right;\">\n",
       "      <th></th>\n",
       "      <th>country</th>\n",
       "      <th>type</th>\n",
       "      <th>count</th>\n",
       "    </tr>\n",
       "  </thead>\n",
       "  <tbody>\n",
       "    <tr>\n",
       "      <th>0</th>\n",
       "      <td>United States</td>\n",
       "      <td>TV Show</td>\n",
       "      <td>932</td>\n",
       "    </tr>\n",
       "    <tr>\n",
       "      <th>1</th>\n",
       "      <td>United Kingdom</td>\n",
       "      <td>TV Show</td>\n",
       "      <td>271</td>\n",
       "    </tr>\n",
       "    <tr>\n",
       "      <th>2</th>\n",
       "      <td>Japan</td>\n",
       "      <td>TV Show</td>\n",
       "      <td>197</td>\n",
       "    </tr>\n",
       "    <tr>\n",
       "      <th>3</th>\n",
       "      <td>South Korea</td>\n",
       "      <td>TV Show</td>\n",
       "      <td>170</td>\n",
       "    </tr>\n",
       "    <tr>\n",
       "      <th>4</th>\n",
       "      <td>Canada</td>\n",
       "      <td>TV Show</td>\n",
       "      <td>126</td>\n",
       "    </tr>\n",
       "    <tr>\n",
       "      <th>...</th>\n",
       "      <td>...</td>\n",
       "      <td>...</td>\n",
       "      <td>...</td>\n",
       "    </tr>\n",
       "    <tr>\n",
       "      <th>61</th>\n",
       "      <td>Switzerland</td>\n",
       "      <td>TV Show</td>\n",
       "      <td>1</td>\n",
       "    </tr>\n",
       "    <tr>\n",
       "      <th>62</th>\n",
       "      <td>Hungary</td>\n",
       "      <td>TV Show</td>\n",
       "      <td>1</td>\n",
       "    </tr>\n",
       "    <tr>\n",
       "      <th>63</th>\n",
       "      <td>Malta</td>\n",
       "      <td>TV Show</td>\n",
       "      <td>1</td>\n",
       "    </tr>\n",
       "    <tr>\n",
       "      <th>64</th>\n",
       "      <td>Senegal</td>\n",
       "      <td>TV Show</td>\n",
       "      <td>1</td>\n",
       "    </tr>\n",
       "    <tr>\n",
       "      <th>65</th>\n",
       "      <td></td>\n",
       "      <td>TV Show</td>\n",
       "      <td>1</td>\n",
       "    </tr>\n",
       "  </tbody>\n",
       "</table>\n",
       "<p>66 rows × 3 columns</p>\n",
       "</div>"
      ],
      "text/plain": [
       "           country     type  count\n",
       "0    United States  TV Show    932\n",
       "1   United Kingdom  TV Show    271\n",
       "2            Japan  TV Show    197\n",
       "3      South Korea  TV Show    170\n",
       "4           Canada  TV Show    126\n",
       "..             ...      ...    ...\n",
       "61     Switzerland  TV Show      1\n",
       "62         Hungary  TV Show      1\n",
       "63           Malta  TV Show      1\n",
       "64         Senegal  TV Show      1\n",
       "65                  TV Show      1\n",
       "\n",
       "[66 rows x 3 columns]"
      ]
     },
     "execution_count": 19,
     "metadata": {},
     "output_type": "execute_result"
    }
   ],
   "source": [
    "# Count how many TV Shows each country has produced\n",
    "count_tv = tv_type.groupby([\"country\"])[\"type\"].value_counts().sort_values(ascending=False).reset_index()\n",
    "count_tv"
   ]
  },
  {
   "cell_type": "markdown",
   "id": "31bdbefd",
   "metadata": {},
   "source": [
    "# Netflix Library by Country"
   ]
  },
  {
   "cell_type": "code",
   "execution_count": 20,
   "id": "3986a668",
   "metadata": {},
   "outputs": [
    {
     "data": {
      "text/html": [
       "<div>\n",
       "<style scoped>\n",
       "    .dataframe tbody tr th:only-of-type {\n",
       "        vertical-align: middle;\n",
       "    }\n",
       "\n",
       "    .dataframe tbody tr th {\n",
       "        vertical-align: top;\n",
       "    }\n",
       "\n",
       "    .dataframe thead th {\n",
       "        text-align: right;\n",
       "    }\n",
       "</style>\n",
       "<table border=\"1\" class=\"dataframe\">\n",
       "  <thead>\n",
       "    <tr style=\"text-align: right;\">\n",
       "      <th></th>\n",
       "      <th>Country</th>\n",
       "      <th>Movies Produced</th>\n",
       "      <th>TV Shows Produced</th>\n",
       "      <th>Total Produced</th>\n",
       "    </tr>\n",
       "  </thead>\n",
       "  <tbody>\n",
       "    <tr>\n",
       "      <th>0</th>\n",
       "      <td>United States</td>\n",
       "      <td>2752</td>\n",
       "      <td>932</td>\n",
       "      <td>3684</td>\n",
       "    </tr>\n",
       "    <tr>\n",
       "      <th>1</th>\n",
       "      <td>India</td>\n",
       "      <td>962</td>\n",
       "      <td>84</td>\n",
       "      <td>1046</td>\n",
       "    </tr>\n",
       "    <tr>\n",
       "      <th>2</th>\n",
       "      <td>United Kingdom</td>\n",
       "      <td>534</td>\n",
       "      <td>271</td>\n",
       "      <td>805</td>\n",
       "    </tr>\n",
       "    <tr>\n",
       "      <th>3</th>\n",
       "      <td>Canada</td>\n",
       "      <td>319</td>\n",
       "      <td>126</td>\n",
       "      <td>445</td>\n",
       "    </tr>\n",
       "    <tr>\n",
       "      <th>4</th>\n",
       "      <td>France</td>\n",
       "      <td>303</td>\n",
       "      <td>90</td>\n",
       "      <td>393</td>\n",
       "    </tr>\n",
       "    <tr>\n",
       "      <th>...</th>\n",
       "      <td>...</td>\n",
       "      <td>...</td>\n",
       "      <td>...</td>\n",
       "      <td>...</td>\n",
       "    </tr>\n",
       "    <tr>\n",
       "      <th>97</th>\n",
       "      <td>Somalia</td>\n",
       "      <td>1</td>\n",
       "      <td>0</td>\n",
       "      <td>1</td>\n",
       "    </tr>\n",
       "    <tr>\n",
       "      <th>98</th>\n",
       "      <td>Ecuador</td>\n",
       "      <td>1</td>\n",
       "      <td>0</td>\n",
       "      <td>1</td>\n",
       "    </tr>\n",
       "    <tr>\n",
       "      <th>99</th>\n",
       "      <td>Ethiopia</td>\n",
       "      <td>1</td>\n",
       "      <td>0</td>\n",
       "      <td>1</td>\n",
       "    </tr>\n",
       "    <tr>\n",
       "      <th>100</th>\n",
       "      <td>Nicaragua</td>\n",
       "      <td>1</td>\n",
       "      <td>0</td>\n",
       "      <td>1</td>\n",
       "    </tr>\n",
       "    <tr>\n",
       "      <th>122</th>\n",
       "      <td>Cyprus</td>\n",
       "      <td>0</td>\n",
       "      <td>1</td>\n",
       "      <td>1</td>\n",
       "    </tr>\n",
       "  </tbody>\n",
       "</table>\n",
       "<p>122 rows × 4 columns</p>\n",
       "</div>"
      ],
      "text/plain": [
       "            Country  Movies Produced  TV Shows Produced  Total Produced\n",
       "0     United States             2752                932            3684\n",
       "1             India              962                 84            1046\n",
       "2    United Kingdom              534                271             805\n",
       "3            Canada              319                126             445\n",
       "4            France              303                 90             393\n",
       "..              ...              ...                ...             ...\n",
       "97          Somalia                1                  0               1\n",
       "98          Ecuador                1                  0               1\n",
       "99         Ethiopia                1                  0               1\n",
       "100       Nicaragua                1                  0               1\n",
       "122          Cyprus                0                  1               1\n",
       "\n",
       "[122 rows x 4 columns]"
      ]
     },
     "execution_count": 20,
     "metadata": {},
     "output_type": "execute_result"
    }
   ],
   "source": [
    "# Merge the two dataframes - movie count and tv count\n",
    "# rename and remove columns for formatting\n",
    "netflix_all = pd.merge(count_movie, count_tv, how=\"outer\", on=[\"country\"])\n",
    "df = netflix_all.rename(columns = {\"count_x\": \"Movies Produced\", \"count_y\": \"TV Shows Produced\", \"country\": \"Country\"}, inplace=True)\n",
    "netflix_final = netflix_all.drop(columns = {\"type_x\", \"type_y\"})\n",
    "\n",
    "# Replace NaN values with 0, if a country never produced a movie or tv show\n",
    "netflix_final[\"Movies Produced\"] = netflix_final[\"Movies Produced\"].replace(np.nan, 0)\n",
    "netflix_final[\"TV Shows Produced\"] = netflix_final[\"TV Shows Produced\"].replace(np.nan, 0)\n",
    "\n",
    "# Find the Total Produced column by summing Movies + TV shows columns\n",
    "netflix_final[\"Total Produced\"] = netflix_final[\"Movies Produced\"] + netflix_final[\"TV Shows Produced\"]\n",
    "netflix_final = netflix_final.sort_values(by=[\"Total Produced\"], ascending=False)\n",
    "\n",
    "# Display columns as integers only, for formatting\n",
    "netflix_final[\"Movies Produced\"] = netflix_final[\"Movies Produced\"].astype(int)\n",
    "netflix_final[\"TV Shows Produced\"] = netflix_final[\"TV Shows Produced\"].astype(int)\n",
    "netflix_final[\"Total Produced\"] = netflix_final[\"Total Produced\"].astype(int)\n",
    "\n",
    "# Display DataFrame where country is not equal to \"\" value, one country had no name but wasn't a NaN value\n",
    "netflix_final = netflix_final.loc[netflix_final[\"Country\"]!=\"\",:]\n",
    "\n",
    "netflix_final"
   ]
  },
  {
   "cell_type": "markdown",
   "id": "dbe43c54",
   "metadata": {},
   "source": [
    "# Netflix Library Map"
   ]
  },
  {
   "cell_type": "code",
   "execution_count": 22,
   "id": "93cef425",
   "metadata": {
    "scrolled": false
   },
   "outputs": [
    {
     "data": {
      "application/vnd.plotly.v1+json": {
       "config": {
        "plotlyServerURL": "https://plot.ly"
       },
       "data": [
        {
         "coloraxis": "coloraxis",
         "customdata": [
          [
           3684
          ],
          [
           1046
          ],
          [
           805
          ],
          [
           445
          ],
          [
           393
          ],
          [
           316
          ],
          [
           232
          ],
          [
           231
          ],
          [
           226
          ],
          [
           169
          ],
          [
           162
          ],
          [
           158
          ],
          [
           117
          ],
          [
           113
          ],
          [
           105
          ],
          [
           103
          ],
          [
           99
          ],
          [
           97
          ],
          [
           91
          ],
          [
           90
          ],
          [
           90
          ],
          [
           89
          ],
          [
           83
          ],
          [
           70
          ],
          [
           62
          ],
          [
           52
          ],
          [
           50
          ],
          [
           48
          ],
          [
           46
          ],
          [
           42
          ],
          [
           41
          ],
          [
           41
          ],
          [
           37
          ],
          [
           33
          ],
          [
           31
          ],
          [
           30
          ],
          [
           30
          ],
          [
           29
          ],
          [
           27
          ],
          [
           26
          ],
          [
           24
          ],
          [
           22
          ],
          [
           19
          ],
          [
           14
          ],
          [
           14
          ],
          [
           13
          ],
          [
           12
          ],
          [
           12
          ],
          [
           11
          ],
          [
           11
          ],
          [
           11
          ],
          [
           11
          ],
          [
           10
          ],
          [
           10
          ],
          [
           10
          ],
          [
           9
          ],
          [
           8
          ],
          [
           7
          ],
          [
           7
          ],
          [
           6
          ],
          [
           6
          ],
          [
           6
          ],
          [
           6
          ],
          [
           5
          ],
          [
           5
          ],
          [
           4
          ],
          [
           4
          ],
          [
           4
          ],
          [
           4
          ],
          [
           3
          ],
          [
           3
          ],
          [
           3
          ],
          [
           3
          ],
          [
           3
          ],
          [
           3
          ],
          [
           3
          ],
          [
           3
          ],
          [
           2
          ],
          [
           2
          ],
          [
           2
          ],
          [
           2
          ],
          [
           2
          ],
          [
           2
          ],
          [
           2
          ],
          [
           1
          ],
          [
           1
          ],
          [
           1
          ],
          [
           1
          ],
          [
           1
          ],
          [
           1
          ],
          [
           1
          ],
          [
           1
          ],
          [
           1
          ],
          [
           1
          ],
          [
           1
          ],
          [
           1
          ],
          [
           1
          ],
          [
           1
          ],
          [
           1
          ],
          [
           1
          ],
          [
           1
          ],
          [
           1
          ],
          [
           1
          ],
          [
           1
          ],
          [
           1
          ],
          [
           1
          ],
          [
           1
          ],
          [
           1
          ],
          [
           1
          ],
          [
           1
          ],
          [
           1
          ],
          [
           1
          ],
          [
           1
          ],
          [
           1
          ],
          [
           1
          ],
          [
           1
          ],
          [
           1
          ],
          [
           1
          ],
          [
           1
          ],
          [
           1
          ],
          [
           1
          ],
          [
           1
          ]
         ],
         "geo": "geo",
         "hovertemplate": "Country=%{location}<br>Total Produced=%{customdata[0]}<br>Total Produced (log scale)=%{z}<extra></extra>",
         "locationmode": "country names",
         "locations": [
          "United States",
          "India",
          "United Kingdom",
          "Canada",
          "France",
          "Japan",
          "Spain",
          "South Korea",
          "Germany",
          "Mexico",
          "China",
          "Australia",
          "Egypt",
          "Turkey",
          "Hong Kong",
          "Nigeria",
          "Italy",
          "Brazil",
          "Argentina",
          "Belgium",
          "Indonesia",
          "Taiwan",
          "Philippines",
          "Thailand",
          "South Africa",
          "Colombia",
          "Netherlands",
          "Denmark",
          "Ireland",
          "Sweden",
          "Poland",
          "Singapore",
          "United Arab Emirates",
          "New Zealand",
          "Lebanon",
          "Israel",
          "Norway",
          "Chile",
          "Russia",
          "Malaysia",
          "Pakistan",
          "Czech Republic",
          "Switzerland",
          "Uruguay",
          "Romania",
          "Saudi Arabia",
          "Austria",
          "Luxembourg",
          "Finland",
          "Iceland",
          "Greece",
          "Hungary",
          "Bulgaria",
          "Peru",
          "Qatar",
          "Jordan",
          "Kuwait",
          "Serbia",
          "Vietnam",
          "Cambodia",
          "Kenya",
          "Portugal",
          "Morocco",
          "Ghana",
          "West Germany",
          "Croatia",
          "Iran",
          "Venezuela",
          "Bangladesh",
          "Syria",
          "Ukraine",
          "Zimbabwe",
          "Algeria",
          "Malta",
          "Soviet Union",
          "Slovenia",
          "Senegal",
          "Mauritius",
          "Cayman Islands",
          "Iraq",
          "Georgia",
          "Nepal",
          "Guatemala",
          "Namibia",
          "Panama",
          "Paraguay",
          "Malawi",
          "Afghanistan",
          "Lithuania",
          "Liechtenstein",
          "Latvia",
          "Samoa",
          "Mongolia",
          "Kazakhstan",
          "Jamaica",
          "Slovakia",
          "Puerto Rico",
          "Cuba",
          "Azerbaijan",
          "Belarus",
          "Palestine",
          "Armenia",
          "Montenegro",
          "Mozambique",
          "Cameroon",
          "Sudan",
          "Dominican Republic",
          "Burkina Faso",
          "East Germany",
          "Uganda",
          "Botswana",
          "Bermuda",
          "Bahamas",
          "Vatican City",
          "Angola",
          "Albania",
          "Sri Lanka",
          "Somalia",
          "Ecuador",
          "Ethiopia",
          "Nicaragua",
          "Cyprus"
         ],
         "name": "",
         "type": "choropleth",
         "z": [
          3.566319621524811,
          3.0195316845312554,
          2.9057958803678687,
          2.6483600109809315,
          2.5943925503754266,
          2.499687082618404,
          2.3654879848909,
          2.3636119798921444,
          2.3541084391474008,
          2.2278867046136734,
          2.2095150145426308,
          2.1986570869544226,
          2.0681858617461617,
          2.0530784434834195,
          2.0211892990699383,
          2.012837224705172,
          1.99563519459755,
          1.9867717342662448,
          1.9590413923210936,
          1.954242509439325,
          1.954242509439325,
          1.9493900066449128,
          1.919078092376074,
          1.845098040014257,
          1.792391689498254,
          1.7160033436347992,
          1.6989700043360187,
          1.6812412373755872,
          1.662757831681574,
          1.6232492903979006,
          1.6127838567197355,
          1.6127838567197355,
          1.568201724066995,
          1.5185139398778875,
          1.4913616938342726,
          1.4771212547196624,
          1.4771212547196624,
          1.462397997898956,
          1.4313637641589874,
          1.414973347970818,
          1.380211241711606,
          1.3424226808222062,
          1.2787536009528289,
          1.146128035678238,
          1.146128035678238,
          1.1139433523068367,
          1.0791812460476249,
          1.0791812460476249,
          1.0413926851582251,
          1.0413926851582251,
          1.0413926851582251,
          1.0413926851582251,
          1,
          1,
          1,
          0.9542425094393249,
          0.9030899869919435,
          0.8450980400142568,
          0.8450980400142568,
          0.7781512503836436,
          0.7781512503836436,
          0.7781512503836436,
          0.7781512503836436,
          0.6989700043360189,
          0.6989700043360189,
          0.6020599913279624,
          0.6020599913279624,
          0.6020599913279624,
          0.6020599913279624,
          0.47712125471966244,
          0.47712125471966244,
          0.47712125471966244,
          0.47712125471966244,
          0.47712125471966244,
          0.47712125471966244,
          0.47712125471966244,
          0.47712125471966244,
          0.3010299956639812,
          0.3010299956639812,
          0.3010299956639812,
          0.3010299956639812,
          0.3010299956639812,
          0.3010299956639812,
          0.3010299956639812,
          0,
          0,
          0,
          0,
          0,
          0,
          0,
          0,
          0,
          0,
          0,
          0,
          0,
          0,
          0,
          0,
          0,
          0,
          0,
          0,
          0,
          0,
          0,
          0,
          0,
          0,
          0,
          0,
          0,
          0,
          0,
          0,
          0,
          0,
          0,
          0,
          0,
          0
         ]
        }
       ],
       "layout": {
        "coloraxis": {
         "colorbar": {
          "title": {
           "text": "Total Produced (log scale)"
          }
         },
         "colorscale": [
          [
           0,
           "#0d0887"
          ],
          [
           0.1111111111111111,
           "#46039f"
          ],
          [
           0.2222222222222222,
           "#7201a8"
          ],
          [
           0.3333333333333333,
           "#9c179e"
          ],
          [
           0.4444444444444444,
           "#bd3786"
          ],
          [
           0.5555555555555556,
           "#d8576b"
          ],
          [
           0.6666666666666666,
           "#ed7953"
          ],
          [
           0.7777777777777778,
           "#fb9f3a"
          ],
          [
           0.8888888888888888,
           "#fdca26"
          ],
          [
           1,
           "#f0f921"
          ]
         ]
        },
        "geo": {
         "center": {},
         "domain": {
          "x": [
           0,
           1
          ],
          "y": [
           0,
           1
          ]
         }
        },
        "legend": {
         "tracegroupgap": 0
        },
        "template": {
         "data": {
          "bar": [
           {
            "error_x": {
             "color": "#2a3f5f"
            },
            "error_y": {
             "color": "#2a3f5f"
            },
            "marker": {
             "line": {
              "color": "#E5ECF6",
              "width": 0.5
             },
             "pattern": {
              "fillmode": "overlay",
              "size": 10,
              "solidity": 0.2
             }
            },
            "type": "bar"
           }
          ],
          "barpolar": [
           {
            "marker": {
             "line": {
              "color": "#E5ECF6",
              "width": 0.5
             },
             "pattern": {
              "fillmode": "overlay",
              "size": 10,
              "solidity": 0.2
             }
            },
            "type": "barpolar"
           }
          ],
          "carpet": [
           {
            "aaxis": {
             "endlinecolor": "#2a3f5f",
             "gridcolor": "white",
             "linecolor": "white",
             "minorgridcolor": "white",
             "startlinecolor": "#2a3f5f"
            },
            "baxis": {
             "endlinecolor": "#2a3f5f",
             "gridcolor": "white",
             "linecolor": "white",
             "minorgridcolor": "white",
             "startlinecolor": "#2a3f5f"
            },
            "type": "carpet"
           }
          ],
          "choropleth": [
           {
            "colorbar": {
             "outlinewidth": 0,
             "ticks": ""
            },
            "type": "choropleth"
           }
          ],
          "contour": [
           {
            "colorbar": {
             "outlinewidth": 0,
             "ticks": ""
            },
            "colorscale": [
             [
              0,
              "#0d0887"
             ],
             [
              0.1111111111111111,
              "#46039f"
             ],
             [
              0.2222222222222222,
              "#7201a8"
             ],
             [
              0.3333333333333333,
              "#9c179e"
             ],
             [
              0.4444444444444444,
              "#bd3786"
             ],
             [
              0.5555555555555556,
              "#d8576b"
             ],
             [
              0.6666666666666666,
              "#ed7953"
             ],
             [
              0.7777777777777778,
              "#fb9f3a"
             ],
             [
              0.8888888888888888,
              "#fdca26"
             ],
             [
              1,
              "#f0f921"
             ]
            ],
            "type": "contour"
           }
          ],
          "contourcarpet": [
           {
            "colorbar": {
             "outlinewidth": 0,
             "ticks": ""
            },
            "type": "contourcarpet"
           }
          ],
          "heatmap": [
           {
            "colorbar": {
             "outlinewidth": 0,
             "ticks": ""
            },
            "colorscale": [
             [
              0,
              "#0d0887"
             ],
             [
              0.1111111111111111,
              "#46039f"
             ],
             [
              0.2222222222222222,
              "#7201a8"
             ],
             [
              0.3333333333333333,
              "#9c179e"
             ],
             [
              0.4444444444444444,
              "#bd3786"
             ],
             [
              0.5555555555555556,
              "#d8576b"
             ],
             [
              0.6666666666666666,
              "#ed7953"
             ],
             [
              0.7777777777777778,
              "#fb9f3a"
             ],
             [
              0.8888888888888888,
              "#fdca26"
             ],
             [
              1,
              "#f0f921"
             ]
            ],
            "type": "heatmap"
           }
          ],
          "heatmapgl": [
           {
            "colorbar": {
             "outlinewidth": 0,
             "ticks": ""
            },
            "colorscale": [
             [
              0,
              "#0d0887"
             ],
             [
              0.1111111111111111,
              "#46039f"
             ],
             [
              0.2222222222222222,
              "#7201a8"
             ],
             [
              0.3333333333333333,
              "#9c179e"
             ],
             [
              0.4444444444444444,
              "#bd3786"
             ],
             [
              0.5555555555555556,
              "#d8576b"
             ],
             [
              0.6666666666666666,
              "#ed7953"
             ],
             [
              0.7777777777777778,
              "#fb9f3a"
             ],
             [
              0.8888888888888888,
              "#fdca26"
             ],
             [
              1,
              "#f0f921"
             ]
            ],
            "type": "heatmapgl"
           }
          ],
          "histogram": [
           {
            "marker": {
             "pattern": {
              "fillmode": "overlay",
              "size": 10,
              "solidity": 0.2
             }
            },
            "type": "histogram"
           }
          ],
          "histogram2d": [
           {
            "colorbar": {
             "outlinewidth": 0,
             "ticks": ""
            },
            "colorscale": [
             [
              0,
              "#0d0887"
             ],
             [
              0.1111111111111111,
              "#46039f"
             ],
             [
              0.2222222222222222,
              "#7201a8"
             ],
             [
              0.3333333333333333,
              "#9c179e"
             ],
             [
              0.4444444444444444,
              "#bd3786"
             ],
             [
              0.5555555555555556,
              "#d8576b"
             ],
             [
              0.6666666666666666,
              "#ed7953"
             ],
             [
              0.7777777777777778,
              "#fb9f3a"
             ],
             [
              0.8888888888888888,
              "#fdca26"
             ],
             [
              1,
              "#f0f921"
             ]
            ],
            "type": "histogram2d"
           }
          ],
          "histogram2dcontour": [
           {
            "colorbar": {
             "outlinewidth": 0,
             "ticks": ""
            },
            "colorscale": [
             [
              0,
              "#0d0887"
             ],
             [
              0.1111111111111111,
              "#46039f"
             ],
             [
              0.2222222222222222,
              "#7201a8"
             ],
             [
              0.3333333333333333,
              "#9c179e"
             ],
             [
              0.4444444444444444,
              "#bd3786"
             ],
             [
              0.5555555555555556,
              "#d8576b"
             ],
             [
              0.6666666666666666,
              "#ed7953"
             ],
             [
              0.7777777777777778,
              "#fb9f3a"
             ],
             [
              0.8888888888888888,
              "#fdca26"
             ],
             [
              1,
              "#f0f921"
             ]
            ],
            "type": "histogram2dcontour"
           }
          ],
          "mesh3d": [
           {
            "colorbar": {
             "outlinewidth": 0,
             "ticks": ""
            },
            "type": "mesh3d"
           }
          ],
          "parcoords": [
           {
            "line": {
             "colorbar": {
              "outlinewidth": 0,
              "ticks": ""
             }
            },
            "type": "parcoords"
           }
          ],
          "pie": [
           {
            "automargin": true,
            "type": "pie"
           }
          ],
          "scatter": [
           {
            "fillpattern": {
             "fillmode": "overlay",
             "size": 10,
             "solidity": 0.2
            },
            "type": "scatter"
           }
          ],
          "scatter3d": [
           {
            "line": {
             "colorbar": {
              "outlinewidth": 0,
              "ticks": ""
             }
            },
            "marker": {
             "colorbar": {
              "outlinewidth": 0,
              "ticks": ""
             }
            },
            "type": "scatter3d"
           }
          ],
          "scattercarpet": [
           {
            "marker": {
             "colorbar": {
              "outlinewidth": 0,
              "ticks": ""
             }
            },
            "type": "scattercarpet"
           }
          ],
          "scattergeo": [
           {
            "marker": {
             "colorbar": {
              "outlinewidth": 0,
              "ticks": ""
             }
            },
            "type": "scattergeo"
           }
          ],
          "scattergl": [
           {
            "marker": {
             "colorbar": {
              "outlinewidth": 0,
              "ticks": ""
             }
            },
            "type": "scattergl"
           }
          ],
          "scattermapbox": [
           {
            "marker": {
             "colorbar": {
              "outlinewidth": 0,
              "ticks": ""
             }
            },
            "type": "scattermapbox"
           }
          ],
          "scatterpolar": [
           {
            "marker": {
             "colorbar": {
              "outlinewidth": 0,
              "ticks": ""
             }
            },
            "type": "scatterpolar"
           }
          ],
          "scatterpolargl": [
           {
            "marker": {
             "colorbar": {
              "outlinewidth": 0,
              "ticks": ""
             }
            },
            "type": "scatterpolargl"
           }
          ],
          "scatterternary": [
           {
            "marker": {
             "colorbar": {
              "outlinewidth": 0,
              "ticks": ""
             }
            },
            "type": "scatterternary"
           }
          ],
          "surface": [
           {
            "colorbar": {
             "outlinewidth": 0,
             "ticks": ""
            },
            "colorscale": [
             [
              0,
              "#0d0887"
             ],
             [
              0.1111111111111111,
              "#46039f"
             ],
             [
              0.2222222222222222,
              "#7201a8"
             ],
             [
              0.3333333333333333,
              "#9c179e"
             ],
             [
              0.4444444444444444,
              "#bd3786"
             ],
             [
              0.5555555555555556,
              "#d8576b"
             ],
             [
              0.6666666666666666,
              "#ed7953"
             ],
             [
              0.7777777777777778,
              "#fb9f3a"
             ],
             [
              0.8888888888888888,
              "#fdca26"
             ],
             [
              1,
              "#f0f921"
             ]
            ],
            "type": "surface"
           }
          ],
          "table": [
           {
            "cells": {
             "fill": {
              "color": "#EBF0F8"
             },
             "line": {
              "color": "white"
             }
            },
            "header": {
             "fill": {
              "color": "#C8D4E3"
             },
             "line": {
              "color": "white"
             }
            },
            "type": "table"
           }
          ]
         },
         "layout": {
          "annotationdefaults": {
           "arrowcolor": "#2a3f5f",
           "arrowhead": 0,
           "arrowwidth": 1
          },
          "autotypenumbers": "strict",
          "coloraxis": {
           "colorbar": {
            "outlinewidth": 0,
            "ticks": ""
           }
          },
          "colorscale": {
           "diverging": [
            [
             0,
             "#8e0152"
            ],
            [
             0.1,
             "#c51b7d"
            ],
            [
             0.2,
             "#de77ae"
            ],
            [
             0.3,
             "#f1b6da"
            ],
            [
             0.4,
             "#fde0ef"
            ],
            [
             0.5,
             "#f7f7f7"
            ],
            [
             0.6,
             "#e6f5d0"
            ],
            [
             0.7,
             "#b8e186"
            ],
            [
             0.8,
             "#7fbc41"
            ],
            [
             0.9,
             "#4d9221"
            ],
            [
             1,
             "#276419"
            ]
           ],
           "sequential": [
            [
             0,
             "#0d0887"
            ],
            [
             0.1111111111111111,
             "#46039f"
            ],
            [
             0.2222222222222222,
             "#7201a8"
            ],
            [
             0.3333333333333333,
             "#9c179e"
            ],
            [
             0.4444444444444444,
             "#bd3786"
            ],
            [
             0.5555555555555556,
             "#d8576b"
            ],
            [
             0.6666666666666666,
             "#ed7953"
            ],
            [
             0.7777777777777778,
             "#fb9f3a"
            ],
            [
             0.8888888888888888,
             "#fdca26"
            ],
            [
             1,
             "#f0f921"
            ]
           ],
           "sequentialminus": [
            [
             0,
             "#0d0887"
            ],
            [
             0.1111111111111111,
             "#46039f"
            ],
            [
             0.2222222222222222,
             "#7201a8"
            ],
            [
             0.3333333333333333,
             "#9c179e"
            ],
            [
             0.4444444444444444,
             "#bd3786"
            ],
            [
             0.5555555555555556,
             "#d8576b"
            ],
            [
             0.6666666666666666,
             "#ed7953"
            ],
            [
             0.7777777777777778,
             "#fb9f3a"
            ],
            [
             0.8888888888888888,
             "#fdca26"
            ],
            [
             1,
             "#f0f921"
            ]
           ]
          },
          "colorway": [
           "#636efa",
           "#EF553B",
           "#00cc96",
           "#ab63fa",
           "#FFA15A",
           "#19d3f3",
           "#FF6692",
           "#B6E880",
           "#FF97FF",
           "#FECB52"
          ],
          "font": {
           "color": "#2a3f5f"
          },
          "geo": {
           "bgcolor": "white",
           "lakecolor": "white",
           "landcolor": "#E5ECF6",
           "showlakes": true,
           "showland": true,
           "subunitcolor": "white"
          },
          "hoverlabel": {
           "align": "left"
          },
          "hovermode": "closest",
          "mapbox": {
           "style": "light"
          },
          "paper_bgcolor": "white",
          "plot_bgcolor": "#E5ECF6",
          "polar": {
           "angularaxis": {
            "gridcolor": "white",
            "linecolor": "white",
            "ticks": ""
           },
           "bgcolor": "#E5ECF6",
           "radialaxis": {
            "gridcolor": "white",
            "linecolor": "white",
            "ticks": ""
           }
          },
          "scene": {
           "xaxis": {
            "backgroundcolor": "#E5ECF6",
            "gridcolor": "white",
            "gridwidth": 2,
            "linecolor": "white",
            "showbackground": true,
            "ticks": "",
            "zerolinecolor": "white"
           },
           "yaxis": {
            "backgroundcolor": "#E5ECF6",
            "gridcolor": "white",
            "gridwidth": 2,
            "linecolor": "white",
            "showbackground": true,
            "ticks": "",
            "zerolinecolor": "white"
           },
           "zaxis": {
            "backgroundcolor": "#E5ECF6",
            "gridcolor": "white",
            "gridwidth": 2,
            "linecolor": "white",
            "showbackground": true,
            "ticks": "",
            "zerolinecolor": "white"
           }
          },
          "shapedefaults": {
           "line": {
            "color": "#2a3f5f"
           }
          },
          "ternary": {
           "aaxis": {
            "gridcolor": "white",
            "linecolor": "white",
            "ticks": ""
           },
           "baxis": {
            "gridcolor": "white",
            "linecolor": "white",
            "ticks": ""
           },
           "bgcolor": "#E5ECF6",
           "caxis": {
            "gridcolor": "white",
            "linecolor": "white",
            "ticks": ""
           }
          },
          "title": {
           "x": 0.05
          },
          "xaxis": {
           "automargin": true,
           "gridcolor": "white",
           "linecolor": "white",
           "ticks": "",
           "title": {
            "standoff": 15
           },
           "zerolinecolor": "white",
           "zerolinewidth": 2
          },
          "yaxis": {
           "automargin": true,
           "gridcolor": "white",
           "linecolor": "white",
           "ticks": "",
           "title": {
            "standoff": 15
           },
           "zerolinecolor": "white",
           "zerolinewidth": 2
          }
         }
        },
        "title": {
         "text": "Netflix Library Distribution by Country"
        }
       }
      },
      "text/html": [
       "<div>                            <div id=\"f1fb4b9b-6686-450a-8093-3f678b360d60\" class=\"plotly-graph-div\" style=\"height:525px; width:100%;\"></div>            <script type=\"text/javascript\">                require([\"plotly\"], function(Plotly) {                    window.PLOTLYENV=window.PLOTLYENV || {};                                    if (document.getElementById(\"f1fb4b9b-6686-450a-8093-3f678b360d60\")) {                    Plotly.newPlot(                        \"f1fb4b9b-6686-450a-8093-3f678b360d60\",                        [{\"coloraxis\":\"coloraxis\",\"customdata\":[[3684],[1046],[805],[445],[393],[316],[232],[231],[226],[169],[162],[158],[117],[113],[105],[103],[99],[97],[91],[90],[90],[89],[83],[70],[62],[52],[50],[48],[46],[42],[41],[41],[37],[33],[31],[30],[30],[29],[27],[26],[24],[22],[19],[14],[14],[13],[12],[12],[11],[11],[11],[11],[10],[10],[10],[9],[8],[7],[7],[6],[6],[6],[6],[5],[5],[4],[4],[4],[4],[3],[3],[3],[3],[3],[3],[3],[3],[2],[2],[2],[2],[2],[2],[2],[1],[1],[1],[1],[1],[1],[1],[1],[1],[1],[1],[1],[1],[1],[1],[1],[1],[1],[1],[1],[1],[1],[1],[1],[1],[1],[1],[1],[1],[1],[1],[1],[1],[1],[1],[1],[1],[1]],\"geo\":\"geo\",\"hovertemplate\":\"Country=%{location}<br>Total Produced=%{customdata[0]}<br>Total Produced (log scale)=%{z}<extra></extra>\",\"locationmode\":\"country names\",\"locations\":[\"United States\",\"India\",\"United Kingdom\",\"Canada\",\"France\",\"Japan\",\"Spain\",\"South Korea\",\"Germany\",\"Mexico\",\"China\",\"Australia\",\"Egypt\",\"Turkey\",\"Hong Kong\",\"Nigeria\",\"Italy\",\"Brazil\",\"Argentina\",\"Belgium\",\"Indonesia\",\"Taiwan\",\"Philippines\",\"Thailand\",\"South Africa\",\"Colombia\",\"Netherlands\",\"Denmark\",\"Ireland\",\"Sweden\",\"Poland\",\"Singapore\",\"United Arab Emirates\",\"New Zealand\",\"Lebanon\",\"Israel\",\"Norway\",\"Chile\",\"Russia\",\"Malaysia\",\"Pakistan\",\"Czech Republic\",\"Switzerland\",\"Uruguay\",\"Romania\",\"Saudi Arabia\",\"Austria\",\"Luxembourg\",\"Finland\",\"Iceland\",\"Greece\",\"Hungary\",\"Bulgaria\",\"Peru\",\"Qatar\",\"Jordan\",\"Kuwait\",\"Serbia\",\"Vietnam\",\"Cambodia\",\"Kenya\",\"Portugal\",\"Morocco\",\"Ghana\",\"West Germany\",\"Croatia\",\"Iran\",\"Venezuela\",\"Bangladesh\",\"Syria\",\"Ukraine\",\"Zimbabwe\",\"Algeria\",\"Malta\",\"Soviet Union\",\"Slovenia\",\"Senegal\",\"Mauritius\",\"Cayman Islands\",\"Iraq\",\"Georgia\",\"Nepal\",\"Guatemala\",\"Namibia\",\"Panama\",\"Paraguay\",\"Malawi\",\"Afghanistan\",\"Lithuania\",\"Liechtenstein\",\"Latvia\",\"Samoa\",\"Mongolia\",\"Kazakhstan\",\"Jamaica\",\"Slovakia\",\"Puerto Rico\",\"Cuba\",\"Azerbaijan\",\"Belarus\",\"Palestine\",\"Armenia\",\"Montenegro\",\"Mozambique\",\"Cameroon\",\"Sudan\",\"Dominican Republic\",\"Burkina Faso\",\"East Germany\",\"Uganda\",\"Botswana\",\"Bermuda\",\"Bahamas\",\"Vatican City\",\"Angola\",\"Albania\",\"Sri Lanka\",\"Somalia\",\"Ecuador\",\"Ethiopia\",\"Nicaragua\",\"Cyprus\"],\"name\":\"\",\"z\":[3.566319621524811,3.0195316845312554,2.9057958803678687,2.6483600109809315,2.5943925503754266,2.499687082618404,2.3654879848909,2.3636119798921444,2.3541084391474008,2.2278867046136734,2.2095150145426308,2.1986570869544226,2.0681858617461617,2.0530784434834195,2.0211892990699383,2.012837224705172,1.99563519459755,1.9867717342662448,1.9590413923210936,1.954242509439325,1.954242509439325,1.9493900066449128,1.919078092376074,1.845098040014257,1.792391689498254,1.7160033436347992,1.6989700043360187,1.6812412373755872,1.662757831681574,1.6232492903979006,1.6127838567197355,1.6127838567197355,1.568201724066995,1.5185139398778875,1.4913616938342726,1.4771212547196624,1.4771212547196624,1.462397997898956,1.4313637641589874,1.414973347970818,1.380211241711606,1.3424226808222062,1.2787536009528289,1.146128035678238,1.146128035678238,1.1139433523068367,1.0791812460476249,1.0791812460476249,1.0413926851582251,1.0413926851582251,1.0413926851582251,1.0413926851582251,1.0,1.0,1.0,0.9542425094393249,0.9030899869919435,0.8450980400142568,0.8450980400142568,0.7781512503836436,0.7781512503836436,0.7781512503836436,0.7781512503836436,0.6989700043360189,0.6989700043360189,0.6020599913279624,0.6020599913279624,0.6020599913279624,0.6020599913279624,0.47712125471966244,0.47712125471966244,0.47712125471966244,0.47712125471966244,0.47712125471966244,0.47712125471966244,0.47712125471966244,0.47712125471966244,0.3010299956639812,0.3010299956639812,0.3010299956639812,0.3010299956639812,0.3010299956639812,0.3010299956639812,0.3010299956639812,0.0,0.0,0.0,0.0,0.0,0.0,0.0,0.0,0.0,0.0,0.0,0.0,0.0,0.0,0.0,0.0,0.0,0.0,0.0,0.0,0.0,0.0,0.0,0.0,0.0,0.0,0.0,0.0,0.0,0.0,0.0,0.0,0.0,0.0,0.0,0.0,0.0,0.0],\"type\":\"choropleth\"}],                        {\"template\":{\"data\":{\"histogram2dcontour\":[{\"type\":\"histogram2dcontour\",\"colorbar\":{\"outlinewidth\":0,\"ticks\":\"\"},\"colorscale\":[[0.0,\"#0d0887\"],[0.1111111111111111,\"#46039f\"],[0.2222222222222222,\"#7201a8\"],[0.3333333333333333,\"#9c179e\"],[0.4444444444444444,\"#bd3786\"],[0.5555555555555556,\"#d8576b\"],[0.6666666666666666,\"#ed7953\"],[0.7777777777777778,\"#fb9f3a\"],[0.8888888888888888,\"#fdca26\"],[1.0,\"#f0f921\"]]}],\"choropleth\":[{\"type\":\"choropleth\",\"colorbar\":{\"outlinewidth\":0,\"ticks\":\"\"}}],\"histogram2d\":[{\"type\":\"histogram2d\",\"colorbar\":{\"outlinewidth\":0,\"ticks\":\"\"},\"colorscale\":[[0.0,\"#0d0887\"],[0.1111111111111111,\"#46039f\"],[0.2222222222222222,\"#7201a8\"],[0.3333333333333333,\"#9c179e\"],[0.4444444444444444,\"#bd3786\"],[0.5555555555555556,\"#d8576b\"],[0.6666666666666666,\"#ed7953\"],[0.7777777777777778,\"#fb9f3a\"],[0.8888888888888888,\"#fdca26\"],[1.0,\"#f0f921\"]]}],\"heatmap\":[{\"type\":\"heatmap\",\"colorbar\":{\"outlinewidth\":0,\"ticks\":\"\"},\"colorscale\":[[0.0,\"#0d0887\"],[0.1111111111111111,\"#46039f\"],[0.2222222222222222,\"#7201a8\"],[0.3333333333333333,\"#9c179e\"],[0.4444444444444444,\"#bd3786\"],[0.5555555555555556,\"#d8576b\"],[0.6666666666666666,\"#ed7953\"],[0.7777777777777778,\"#fb9f3a\"],[0.8888888888888888,\"#fdca26\"],[1.0,\"#f0f921\"]]}],\"heatmapgl\":[{\"type\":\"heatmapgl\",\"colorbar\":{\"outlinewidth\":0,\"ticks\":\"\"},\"colorscale\":[[0.0,\"#0d0887\"],[0.1111111111111111,\"#46039f\"],[0.2222222222222222,\"#7201a8\"],[0.3333333333333333,\"#9c179e\"],[0.4444444444444444,\"#bd3786\"],[0.5555555555555556,\"#d8576b\"],[0.6666666666666666,\"#ed7953\"],[0.7777777777777778,\"#fb9f3a\"],[0.8888888888888888,\"#fdca26\"],[1.0,\"#f0f921\"]]}],\"contourcarpet\":[{\"type\":\"contourcarpet\",\"colorbar\":{\"outlinewidth\":0,\"ticks\":\"\"}}],\"contour\":[{\"type\":\"contour\",\"colorbar\":{\"outlinewidth\":0,\"ticks\":\"\"},\"colorscale\":[[0.0,\"#0d0887\"],[0.1111111111111111,\"#46039f\"],[0.2222222222222222,\"#7201a8\"],[0.3333333333333333,\"#9c179e\"],[0.4444444444444444,\"#bd3786\"],[0.5555555555555556,\"#d8576b\"],[0.6666666666666666,\"#ed7953\"],[0.7777777777777778,\"#fb9f3a\"],[0.8888888888888888,\"#fdca26\"],[1.0,\"#f0f921\"]]}],\"surface\":[{\"type\":\"surface\",\"colorbar\":{\"outlinewidth\":0,\"ticks\":\"\"},\"colorscale\":[[0.0,\"#0d0887\"],[0.1111111111111111,\"#46039f\"],[0.2222222222222222,\"#7201a8\"],[0.3333333333333333,\"#9c179e\"],[0.4444444444444444,\"#bd3786\"],[0.5555555555555556,\"#d8576b\"],[0.6666666666666666,\"#ed7953\"],[0.7777777777777778,\"#fb9f3a\"],[0.8888888888888888,\"#fdca26\"],[1.0,\"#f0f921\"]]}],\"mesh3d\":[{\"type\":\"mesh3d\",\"colorbar\":{\"outlinewidth\":0,\"ticks\":\"\"}}],\"scatter\":[{\"fillpattern\":{\"fillmode\":\"overlay\",\"size\":10,\"solidity\":0.2},\"type\":\"scatter\"}],\"parcoords\":[{\"type\":\"parcoords\",\"line\":{\"colorbar\":{\"outlinewidth\":0,\"ticks\":\"\"}}}],\"scatterpolargl\":[{\"type\":\"scatterpolargl\",\"marker\":{\"colorbar\":{\"outlinewidth\":0,\"ticks\":\"\"}}}],\"bar\":[{\"error_x\":{\"color\":\"#2a3f5f\"},\"error_y\":{\"color\":\"#2a3f5f\"},\"marker\":{\"line\":{\"color\":\"#E5ECF6\",\"width\":0.5},\"pattern\":{\"fillmode\":\"overlay\",\"size\":10,\"solidity\":0.2}},\"type\":\"bar\"}],\"scattergeo\":[{\"type\":\"scattergeo\",\"marker\":{\"colorbar\":{\"outlinewidth\":0,\"ticks\":\"\"}}}],\"scatterpolar\":[{\"type\":\"scatterpolar\",\"marker\":{\"colorbar\":{\"outlinewidth\":0,\"ticks\":\"\"}}}],\"histogram\":[{\"marker\":{\"pattern\":{\"fillmode\":\"overlay\",\"size\":10,\"solidity\":0.2}},\"type\":\"histogram\"}],\"scattergl\":[{\"type\":\"scattergl\",\"marker\":{\"colorbar\":{\"outlinewidth\":0,\"ticks\":\"\"}}}],\"scatter3d\":[{\"type\":\"scatter3d\",\"line\":{\"colorbar\":{\"outlinewidth\":0,\"ticks\":\"\"}},\"marker\":{\"colorbar\":{\"outlinewidth\":0,\"ticks\":\"\"}}}],\"scattermapbox\":[{\"type\":\"scattermapbox\",\"marker\":{\"colorbar\":{\"outlinewidth\":0,\"ticks\":\"\"}}}],\"scatterternary\":[{\"type\":\"scatterternary\",\"marker\":{\"colorbar\":{\"outlinewidth\":0,\"ticks\":\"\"}}}],\"scattercarpet\":[{\"type\":\"scattercarpet\",\"marker\":{\"colorbar\":{\"outlinewidth\":0,\"ticks\":\"\"}}}],\"carpet\":[{\"aaxis\":{\"endlinecolor\":\"#2a3f5f\",\"gridcolor\":\"white\",\"linecolor\":\"white\",\"minorgridcolor\":\"white\",\"startlinecolor\":\"#2a3f5f\"},\"baxis\":{\"endlinecolor\":\"#2a3f5f\",\"gridcolor\":\"white\",\"linecolor\":\"white\",\"minorgridcolor\":\"white\",\"startlinecolor\":\"#2a3f5f\"},\"type\":\"carpet\"}],\"table\":[{\"cells\":{\"fill\":{\"color\":\"#EBF0F8\"},\"line\":{\"color\":\"white\"}},\"header\":{\"fill\":{\"color\":\"#C8D4E3\"},\"line\":{\"color\":\"white\"}},\"type\":\"table\"}],\"barpolar\":[{\"marker\":{\"line\":{\"color\":\"#E5ECF6\",\"width\":0.5},\"pattern\":{\"fillmode\":\"overlay\",\"size\":10,\"solidity\":0.2}},\"type\":\"barpolar\"}],\"pie\":[{\"automargin\":true,\"type\":\"pie\"}]},\"layout\":{\"autotypenumbers\":\"strict\",\"colorway\":[\"#636efa\",\"#EF553B\",\"#00cc96\",\"#ab63fa\",\"#FFA15A\",\"#19d3f3\",\"#FF6692\",\"#B6E880\",\"#FF97FF\",\"#FECB52\"],\"font\":{\"color\":\"#2a3f5f\"},\"hovermode\":\"closest\",\"hoverlabel\":{\"align\":\"left\"},\"paper_bgcolor\":\"white\",\"plot_bgcolor\":\"#E5ECF6\",\"polar\":{\"bgcolor\":\"#E5ECF6\",\"angularaxis\":{\"gridcolor\":\"white\",\"linecolor\":\"white\",\"ticks\":\"\"},\"radialaxis\":{\"gridcolor\":\"white\",\"linecolor\":\"white\",\"ticks\":\"\"}},\"ternary\":{\"bgcolor\":\"#E5ECF6\",\"aaxis\":{\"gridcolor\":\"white\",\"linecolor\":\"white\",\"ticks\":\"\"},\"baxis\":{\"gridcolor\":\"white\",\"linecolor\":\"white\",\"ticks\":\"\"},\"caxis\":{\"gridcolor\":\"white\",\"linecolor\":\"white\",\"ticks\":\"\"}},\"coloraxis\":{\"colorbar\":{\"outlinewidth\":0,\"ticks\":\"\"}},\"colorscale\":{\"sequential\":[[0.0,\"#0d0887\"],[0.1111111111111111,\"#46039f\"],[0.2222222222222222,\"#7201a8\"],[0.3333333333333333,\"#9c179e\"],[0.4444444444444444,\"#bd3786\"],[0.5555555555555556,\"#d8576b\"],[0.6666666666666666,\"#ed7953\"],[0.7777777777777778,\"#fb9f3a\"],[0.8888888888888888,\"#fdca26\"],[1.0,\"#f0f921\"]],\"sequentialminus\":[[0.0,\"#0d0887\"],[0.1111111111111111,\"#46039f\"],[0.2222222222222222,\"#7201a8\"],[0.3333333333333333,\"#9c179e\"],[0.4444444444444444,\"#bd3786\"],[0.5555555555555556,\"#d8576b\"],[0.6666666666666666,\"#ed7953\"],[0.7777777777777778,\"#fb9f3a\"],[0.8888888888888888,\"#fdca26\"],[1.0,\"#f0f921\"]],\"diverging\":[[0,\"#8e0152\"],[0.1,\"#c51b7d\"],[0.2,\"#de77ae\"],[0.3,\"#f1b6da\"],[0.4,\"#fde0ef\"],[0.5,\"#f7f7f7\"],[0.6,\"#e6f5d0\"],[0.7,\"#b8e186\"],[0.8,\"#7fbc41\"],[0.9,\"#4d9221\"],[1,\"#276419\"]]},\"xaxis\":{\"gridcolor\":\"white\",\"linecolor\":\"white\",\"ticks\":\"\",\"title\":{\"standoff\":15},\"zerolinecolor\":\"white\",\"automargin\":true,\"zerolinewidth\":2},\"yaxis\":{\"gridcolor\":\"white\",\"linecolor\":\"white\",\"ticks\":\"\",\"title\":{\"standoff\":15},\"zerolinecolor\":\"white\",\"automargin\":true,\"zerolinewidth\":2},\"scene\":{\"xaxis\":{\"backgroundcolor\":\"#E5ECF6\",\"gridcolor\":\"white\",\"linecolor\":\"white\",\"showbackground\":true,\"ticks\":\"\",\"zerolinecolor\":\"white\",\"gridwidth\":2},\"yaxis\":{\"backgroundcolor\":\"#E5ECF6\",\"gridcolor\":\"white\",\"linecolor\":\"white\",\"showbackground\":true,\"ticks\":\"\",\"zerolinecolor\":\"white\",\"gridwidth\":2},\"zaxis\":{\"backgroundcolor\":\"#E5ECF6\",\"gridcolor\":\"white\",\"linecolor\":\"white\",\"showbackground\":true,\"ticks\":\"\",\"zerolinecolor\":\"white\",\"gridwidth\":2}},\"shapedefaults\":{\"line\":{\"color\":\"#2a3f5f\"}},\"annotationdefaults\":{\"arrowcolor\":\"#2a3f5f\",\"arrowhead\":0,\"arrowwidth\":1},\"geo\":{\"bgcolor\":\"white\",\"landcolor\":\"#E5ECF6\",\"subunitcolor\":\"white\",\"showland\":true,\"showlakes\":true,\"lakecolor\":\"white\"},\"title\":{\"x\":0.05},\"mapbox\":{\"style\":\"light\"}}},\"geo\":{\"domain\":{\"x\":[0.0,1.0],\"y\":[0.0,1.0]},\"center\":{}},\"coloraxis\":{\"colorbar\":{\"title\":{\"text\":\"Total Produced (log scale)\"}},\"colorscale\":[[0.0,\"#0d0887\"],[0.1111111111111111,\"#46039f\"],[0.2222222222222222,\"#7201a8\"],[0.3333333333333333,\"#9c179e\"],[0.4444444444444444,\"#bd3786\"],[0.5555555555555556,\"#d8576b\"],[0.6666666666666666,\"#ed7953\"],[0.7777777777777778,\"#fb9f3a\"],[0.8888888888888888,\"#fdca26\"],[1.0,\"#f0f921\"]]},\"legend\":{\"tracegroupgap\":0},\"title\":{\"text\":\"Netflix Library Distribution by Country\"}},                        {\"responsive\": true}                    ).then(function(){\n",
       "                            \n",
       "var gd = document.getElementById('f1fb4b9b-6686-450a-8093-3f678b360d60');\n",
       "var x = new MutationObserver(function (mutations, observer) {{\n",
       "        var display = window.getComputedStyle(gd).display;\n",
       "        if (!display || display === 'none') {{\n",
       "            console.log([gd, 'removed!']);\n",
       "            Plotly.purge(gd);\n",
       "            observer.disconnect();\n",
       "        }}\n",
       "}});\n",
       "\n",
       "// Listen for the removal of the full notebook cells\n",
       "var notebookContainer = gd.closest('#notebook-container');\n",
       "if (notebookContainer) {{\n",
       "    x.observe(notebookContainer, {childList: true});\n",
       "}}\n",
       "\n",
       "// Listen for the clearing of the current output cell\n",
       "var outputEl = gd.closest('.output');\n",
       "if (outputEl) {{\n",
       "    x.observe(outputEl, {childList: true});\n",
       "}}\n",
       "\n",
       "                        })                };                });            </script>        </div>"
      ]
     },
     "metadata": {},
     "output_type": "display_data"
    }
   ],
   "source": [
    "# Normalize the data to show a better scale\n",
    "log = netflix_final.copy()\n",
    "log[\"Total Produced (log scale)\"] = np.log10(log[\"Total Produced\"])\n",
    "\n",
    "# Plot the figure\n",
    "fig = px.choropleth(\n",
    "    log, \n",
    "    color=\"Total Produced (log scale)\", \n",
    "    locations=\"Country\", \n",
    "    locationmode=\"country names\",\n",
    "    hover_data=[\"Total Produced\"],\n",
    "    title=\"Netflix Library Distribution by Country\"\n",
    "    )\n",
    "\n",
    "fig.show()"
   ]
  },
  {
   "cell_type": "markdown",
   "id": "fbba973c",
   "metadata": {},
   "source": [
    "# Top 10 Netflix Libaries by Country (Total Produced) "
   ]
  },
  {
   "cell_type": "code",
   "execution_count": 10,
   "id": "030abc8d",
   "metadata": {},
   "outputs": [
    {
     "data": {
      "text/html": [
       "<div>\n",
       "<style scoped>\n",
       "    .dataframe tbody tr th:only-of-type {\n",
       "        vertical-align: middle;\n",
       "    }\n",
       "\n",
       "    .dataframe tbody tr th {\n",
       "        vertical-align: top;\n",
       "    }\n",
       "\n",
       "    .dataframe thead th {\n",
       "        text-align: right;\n",
       "    }\n",
       "</style>\n",
       "<table border=\"1\" class=\"dataframe\">\n",
       "  <thead>\n",
       "    <tr style=\"text-align: right;\">\n",
       "      <th></th>\n",
       "      <th>Country</th>\n",
       "      <th>Movies Produced</th>\n",
       "      <th>TV Shows Produced</th>\n",
       "      <th>Total Produced</th>\n",
       "    </tr>\n",
       "  </thead>\n",
       "  <tbody>\n",
       "    <tr>\n",
       "      <th>0</th>\n",
       "      <td>United States</td>\n",
       "      <td>2752</td>\n",
       "      <td>932</td>\n",
       "      <td>3684</td>\n",
       "    </tr>\n",
       "    <tr>\n",
       "      <th>1</th>\n",
       "      <td>India</td>\n",
       "      <td>962</td>\n",
       "      <td>84</td>\n",
       "      <td>1046</td>\n",
       "    </tr>\n",
       "    <tr>\n",
       "      <th>2</th>\n",
       "      <td>United Kingdom</td>\n",
       "      <td>534</td>\n",
       "      <td>271</td>\n",
       "      <td>805</td>\n",
       "    </tr>\n",
       "    <tr>\n",
       "      <th>3</th>\n",
       "      <td>Canada</td>\n",
       "      <td>319</td>\n",
       "      <td>126</td>\n",
       "      <td>445</td>\n",
       "    </tr>\n",
       "    <tr>\n",
       "      <th>4</th>\n",
       "      <td>France</td>\n",
       "      <td>303</td>\n",
       "      <td>90</td>\n",
       "      <td>393</td>\n",
       "    </tr>\n",
       "    <tr>\n",
       "      <th>5</th>\n",
       "      <td>Japan</td>\n",
       "      <td>119</td>\n",
       "      <td>197</td>\n",
       "      <td>316</td>\n",
       "    </tr>\n",
       "    <tr>\n",
       "      <th>6</th>\n",
       "      <td>Spain</td>\n",
       "      <td>171</td>\n",
       "      <td>61</td>\n",
       "      <td>232</td>\n",
       "    </tr>\n",
       "    <tr>\n",
       "      <th>7</th>\n",
       "      <td>South Korea</td>\n",
       "      <td>61</td>\n",
       "      <td>170</td>\n",
       "      <td>231</td>\n",
       "    </tr>\n",
       "    <tr>\n",
       "      <th>8</th>\n",
       "      <td>Germany</td>\n",
       "      <td>182</td>\n",
       "      <td>44</td>\n",
       "      <td>226</td>\n",
       "    </tr>\n",
       "    <tr>\n",
       "      <th>9</th>\n",
       "      <td>Mexico</td>\n",
       "      <td>111</td>\n",
       "      <td>58</td>\n",
       "      <td>169</td>\n",
       "    </tr>\n",
       "  </tbody>\n",
       "</table>\n",
       "</div>"
      ],
      "text/plain": [
       "          Country  Movies Produced  TV Shows Produced  Total Produced\n",
       "0   United States             2752                932            3684\n",
       "1           India              962                 84            1046\n",
       "2  United Kingdom              534                271             805\n",
       "3          Canada              319                126             445\n",
       "4          France              303                 90             393\n",
       "5           Japan              119                197             316\n",
       "6           Spain              171                 61             232\n",
       "7     South Korea               61                170             231\n",
       "8         Germany              182                 44             226\n",
       "9          Mexico              111                 58             169"
      ]
     },
     "execution_count": 10,
     "metadata": {},
     "output_type": "execute_result"
    }
   ],
   "source": [
    "netflix_final.head(10).reset_index(drop=True)"
   ]
  },
  {
   "cell_type": "markdown",
   "id": "69b601fb",
   "metadata": {},
   "source": [
    "# Top 10 Netflix Libraries Bar Chart"
   ]
  },
  {
   "cell_type": "code",
   "execution_count": 11,
   "id": "973e9534",
   "metadata": {},
   "outputs": [
    {
     "data": {
      "image/png": "[encoded data removed]",
      "text/plain": [
       "<Figure size 640x480 with 1 Axes>"
      ]
     },
     "metadata": {},
     "output_type": "display_data"
    }
   ],
   "source": [
    "# Plotting a bar chart\n",
    "netflix_slice = netflix_final.head(10)\n",
    "x_axis = netflix_slice[\"Country\"]\n",
    "y_axis = netflix_slice[\"Total Produced\"]\n",
    "\n",
    "# Charting and setting labels\n",
    "plt.bar(x_axis, y_axis, )\n",
    "tick_locations = [value for value in x_axis]\n",
    "plt.xticks(tick_locations, rotation=90)\n",
    "plt.xlabel(\"Country\")\n",
    "plt.ylabel(\"Total Movies & TV Shows Produced\")\n",
    "plt.title(\"Netflix Library Distribution by Country\")\n",
    "plt.show()"
   ]
  },
  {
   "cell_type": "code",
   "execution_count": null,
   "id": "22cea2ed",
   "metadata": {},
   "outputs": [],
   "source": []
  }
 ],
 "metadata": {
  "kernelspec": {
   "display_name": "Python 3 (ipykernel)",
   "language": "python",
   "name": "python3"
  },
  "language_info": {
   "codemirror_mode": {
    "name": "ipython",
    "version": 3
   },
   "file_extension": ".py",
   "mimetype": "text/x-python",
   "name": "python",
   "nbconvert_exporter": "python",
   "pygments_lexer": "ipython3",
   "version": "3.10.13"
  }
 },
 "nbformat": 4,
 "nbformat_minor": 5
}
